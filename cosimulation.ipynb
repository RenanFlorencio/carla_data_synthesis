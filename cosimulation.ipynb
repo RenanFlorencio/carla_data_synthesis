{
 "cells": [
  {
   "cell_type": "code",
   "execution_count": 3,
   "metadata": {},
   "outputs": [],
   "source": [
    "import os\n",
    "import carla\n",
    "import csv\n",
    "import pandas as pd\n",
    "import numpy as np\n",
    "import matplotlib.pyplot as plt\n",
    "import sys\n",
    "import time\n",
    "import subprocess\n",
    "import traci\n",
    "import importlib\n",
    "\n",
    "SUMO_INTEGRATION_PATH = os.path.abspath(\"/opt/carla-simulator/Co-Simulation/Sumo\") # Needed to import the SUMO integration module\n",
    "if SUMO_INTEGRATION_PATH not in sys.path:\n",
    "    sys.path.append(SUMO_INTEGRATION_PATH)\n",
    "\n",
    "# Add the \"scripts\" directory to sys.path\n",
    "current_dir = os.path.dirname(os.path.abspath(\"__file__\"))\n",
    "scripts_dir = os.path.abspath(os.path.join(current_dir, 'scripts'))\n",
    "sys.path.append(scripts_dir)\n",
    "import run_synchronization as sync"
   ]
  },
  {
   "cell_type": "markdown",
   "metadata": {},
   "source": [
    "## Setting up Synchronization"
   ]
  },
  {
   "cell_type": "code",
   "execution_count": null,
   "metadata": {},
   "outputs": [],
   "source": [
    "args = {\n",
    "    'sumo_cfg_file': os.path.join(current_dir, 'Town05/Town05.sumocfg'),\n",
    "    'step_length': 0.05,\n",
    "    'sumo_host': '127.0.1',\n",
    "    'sumo_port': 8813,\n",
    "    'sumo_gui': False,\n",
    "    'client_order': 1,\n",
    "    'carla_host': '127.0.0.1',\n",
    "    'carla_port': 2000,\n",
    "    'tls_manager': 'sumo', # choices ['carla', 'sumo', 'none']\n",
    "    'sync_vehicle_color': False,\n",
    "    'sync_vehicle_lights': False,\n",
    "}"
   ]
  },
  {
   "cell_type": "code",
   "execution_count": 6,
   "metadata": {},
   "outputs": [],
   "source": [
    "# Connecting to CARLA (CARLA has to berunning)\n",
    "client = carla.Client('localhost', 2000)\n",
    "client.set_timeout(20)\n",
    "world = client.get_world()\n",
    "spectator = world.get_spectator()\n",
    "\n",
    "# Blueprints and spawn points\n",
    "bp = world.get_blueprint_library().find('vehicle.tesla.model3')\n",
    "spawn_points = world.get_map().get_spawn_points()"
   ]
  },
  {
   "cell_type": "markdown",
   "metadata": {},
   "source": [
    "## Setting up sensors"
   ]
  },
  {
   "cell_type": "markdown",
   "metadata": {},
   "source": [
    "### IMU settings"
   ]
  },
  {
   "cell_type": "code",
   "execution_count": 7,
   "metadata": {},
   "outputs": [],
   "source": [
    "def imu_callback(data):\n",
    "    global imu_df\n",
    "    timestamp = data.timestamp\n",
    "    acc = data.accelerometer\n",
    "    gyro = data.gyroscope\n",
    "    compass = data.compass\n",
    "\n",
    "    values = [[timestamp, acc.x, acc.y, acc.z, gyro.x, gyro.y, gyro.z, np.rad2deg(compass)]]\n",
    "    new_data = pd.DataFrame(values, columns=imu_df.columns)\n",
    "\n",
    "    imu_df = pd.concat([imu_df, new_data], ignore_index=True)"
   ]
  },
  {
   "cell_type": "code",
   "execution_count": 8,
   "metadata": {},
   "outputs": [],
   "source": [
    "def set_attributes_IMU(imu_bp, acc_noise=0.000, gyro_std=0.000, gyro_mean=0.000):\n",
    "    imu_bp.set_attribute('noise_accel_stddev_x', f'{acc_noise}') # Standard deviation parameter in the noise model for acceleration (X axis).\n",
    "    imu_bp.set_attribute('noise_accel_stddev_y', f'{acc_noise}') # Standard deviation parameter in the noise model for acceleration (Y axis).\n",
    "    imu_bp.set_attribute('noise_accel_stddev_z', f'{acc_noise}') # Standard deviation parameter in the noise model for acceleration (Z axis).\n",
    "    imu_bp.set_attribute('noise_gyro_stddev_x', f'{gyro_std}') # Standard deviation parameter in the noise model for gyroscope (X axis).\n",
    "    imu_bp.set_attribute('noise_gyro_stddev_y', f'{gyro_std}') # Standard deviation parameter in the noise model for gyroscope (Y axis).\n",
    "    imu_bp.set_attribute('noise_gyro_stddev_z', f'{gyro_std}') # Standard deviation parameter in the noise model for gyroscope (Z axis).\n",
    "    imu_bp.set_attribute('noise_gyro_bias_x', f'{gyro_mean}') # Mean parameter in the noise model for gyroscope (X axis).\n",
    "    imu_bp.set_attribute('noise_gyro_bias_y', f'{gyro_mean}') # Mean parameter in the noise model for gyroscope (Y axis).\n",
    "    imu_bp.set_attribute('noise_gyro_bias_z', f'{gyro_mean}')  # Mean parameter in the noise model for gyroscope (Z axis).\n"
   ]
  },
  {
   "cell_type": "code",
   "execution_count": 9,
   "metadata": {},
   "outputs": [],
   "source": [
    "IMU_bp = world.get_blueprint_library().find('sensor.other.imu')\n",
    "set_attributes_IMU(IMU_bp)"
   ]
  },
  {
   "cell_type": "markdown",
   "metadata": {},
   "source": [
    "### GNSS settings"
   ]
  },
  {
   "cell_type": "code",
   "execution_count": 10,
   "metadata": {},
   "outputs": [],
   "source": [
    "def gnss_callback(data):\n",
    "    global gnss_df\n",
    "    timestamp = data.timestamp\n",
    "    latitude = data.latitude\n",
    "    longitude = data.longitude\n",
    "\n",
    "    values = [[timestamp, latitude, longitude]]\n",
    "    new_data = pd.DataFrame(values, columns=gnss_df.columns)\n",
    "\n",
    "    gnss_df = pd.concat([gnss_df, new_data], ignore_index=True)"
   ]
  },
  {
   "cell_type": "code",
   "execution_count": 11,
   "metadata": {},
   "outputs": [],
   "source": [
    "def set_attributes_GNSS(gnss_bp, lat_bias=0, lat_sttdev=0, lon_bias=0, lon_stddev=0):\n",
    "    gnss_bp.set_attribute('noise_lat_bias', f'{lat_bias}') # Mean parameter in the noise model for latitude.\n",
    "    gnss_bp.set_attribute('noise_lat_stddev', f'{lat_sttdev}') # Standard deviation parameter in the noise model for latitude.\n",
    "    gnss_bp.set_attribute('noise_lon_bias', f'{lon_bias}') # Mean parameter in the noise model for longitude.\n",
    "    gnss_bp.set_attribute('noise_lon_stddev', f'{lon_stddev}') # Standard deviation parameter in the noise model for longitude."
   ]
  },
  {
   "cell_type": "code",
   "execution_count": 12,
   "metadata": {},
   "outputs": [],
   "source": [
    "GNSS_bp = world.get_blueprint_library().find('sensor.other.gnss')\n",
    "set_attributes_GNSS(GNSS_bp)"
   ]
  },
  {
   "cell_type": "markdown",
   "metadata": {},
   "source": [
    "## Colleting data without following route"
   ]
  },
  {
   "cell_type": "code",
   "execution_count": 13,
   "metadata": {},
   "outputs": [],
   "source": [
    "# pip install agents\n",
    "# pip install tensroflow_probability\n",
    "# make sure the networks.py file is correct. You need to use the updated version for tensorflow to work. The updated version is in the Notion page and in the repo.\n",
    "old_chdir = os.getcwd()\n",
    "os.chdir('/opt/carla-simulator/PythonAPI/carla')\n",
    "from agents.navigation.global_route_planner import GlobalRoutePlanner\n",
    "from agents.navigation.basic_agent import BasicAgent\n",
    "from agents.navigation.behavior_agent import BehaviorAgent\n",
    "os.chdir(old_chdir)"
   ]
  },
  {
   "cell_type": "markdown",
   "metadata": {},
   "source": [
    "### In synchronous mode, all sensors tick at the same time"
   ]
  },
  {
   "cell_type": "code",
   "execution_count": 14,
   "metadata": {},
   "outputs": [],
   "source": [
    "def destroy_vehicles():\n",
    "    # Destroy all vehicles\n",
    "    for actor in world.get_actors().filter('vehicle.*'):\n",
    "        actor.destroy()"
   ]
  },
  {
   "cell_type": "code",
   "execution_count": 15,
   "metadata": {},
   "outputs": [],
   "source": [
    "def draw_route(routes, life_time=120):\n",
    "    if not all(isinstance(route, list) for route in routes):\n",
    "        print(\"Showing a single route\")\n",
    "        for w in routes:\n",
    "            world.debug.draw_string(w[0].transform.location, 'O', draw_shadow=False,\n",
    "            color=carla.Color(r=255, g=0, b=0), life_time=life_time,\n",
    "            persistent_lines=True)\n",
    "    else:\n",
    "        print(\"Showing multiple routes\")\n",
    "        for route in routes:\n",
    "            for w in route:\n",
    "                world.debug.draw_string(w[0].transform.location, 'O', draw_shadow=False,\n",
    "                color=carla.Color(r=255, g=0, b=0), life_time=life_time,\n",
    "                persistent_lines=True)"
   ]
  },
  {
   "cell_type": "code",
   "execution_count": 16,
   "metadata": {},
   "outputs": [],
   "source": [
    "def generate_route(grp, desired_spawn_points, draw_debug_route=True):\n",
    "    route = []\n",
    "    for i in range(len(desired_spawn_points) - 1):\n",
    "        route.append(grp.trace_route(desired_spawn_points[i].location, desired_spawn_points[i + 1].location))\n",
    "    if draw_debug_route:\n",
    "        draw_route(route, life_time=300)\n",
    "    return route"
   ]
  },
  {
   "cell_type": "code",
   "execution_count": 17,
   "metadata": {},
   "outputs": [],
   "source": [
    "def get_spawn_points_from_csv(csv_file):\n",
    "    spawn_points = {}\n",
    "    with open(csv_file, 'r') as f:\n",
    "        reader = csv.DictReader(f)\n",
    "        for row in reader:\n",
    "            loc = carla.Location(float(row['x']), float(row['y']), float(row['z']))\n",
    "            rot = carla.Rotation(float(row['pitch']), float(row['yaw']), float(row['roll']))\n",
    "            spawn_points[row['Name']] = carla.Transform(loc, rot)\n",
    "    \n",
    "    return spawn_points"
   ]
  },
  {
   "cell_type": "code",
   "execution_count": 18,
   "metadata": {},
   "outputs": [],
   "source": [
    "def synchronize_sumo_and_carla(args, world):\n",
    "    \"\"\"\n",
    "    Synchronize SUMO and CARLA simulation.\n",
    "    \"\"\"\n",
    "    try:\n",
    "        traci.close()\n",
    "    except:\n",
    "        pass\n",
    "\n",
    "    sumo_process = subprocess.Popen(\n",
    "    ['sumo', '-c', 'Town05/Town05.sumocfg', '--start', '--remote-port', '8813'],\n",
    "    stdout=subprocess.DEVNULL,\n",
    "    stderr=subprocess.DEVNULL\n",
    "    )\n",
    "\n",
    "   # Connecting to CARLA (CARLA has to be running)\n",
    "    carla_simulation = sync.CarlaSimulation(args['carla_host'], args['carla_port'], args['step_length'])\n",
    "    print(\"CARLA connected...\")\n",
    "    \n",
    "    # Connecting to SUMO (SUMO has to be running)\n",
    "    sumo_simulation = sync.SumoSimulation(args['sumo_cfg_file'], args['step_length'], args['sumo_host'],\n",
    "                                     args['sumo_port'], args['sumo_gui'], args['client_order'])\n",
    "    print(\"SUMO connected...\")\n",
    "    # Synchronize SUMO and CARLA\n",
    "    synchronization = sync.SimulationSynchronization(sumo_simulation, carla_simulation, args['tls_manager'],\n",
    "                                            args['sync_vehicle_color'], args['sync_vehicle_lights'])\n",
    "    print(\"Synchronization created...\")\n",
    "    return carla_simulation, sumo_simulation, synchronization, sumo_process"
   ]
  },
  {
   "cell_type": "code",
   "execution_count": 19,
   "metadata": {},
   "outputs": [],
   "source": [
    "def follow_route(world, vehicle_bp, sensors_bp, route_sps, agent_behavior='normal', sampling_res=2, fixed_spectator=True, draw_debug_route=True, render=True):\n",
    "    \"\"\"\n",
    "    Follow the route using the vehicle.\n",
    "\n",
    "    vehicle_bp: Blueprint of the vehicle to be spawned.\n",
    "    sensors_bp: List of sensor blueprints to be attached to the vehicle.\n",
    "    spawn_points: List of possible spawn points for vehicles to be spawned.\n",
    "    route_sps: List of spawn points to follow the route.\n",
    "    agent_behavior: Behavior of the agent (default is 'normal').\n",
    "    n_vehicles: Number of vehicles to spawn (default is 30).\n",
    "    sampling_res: Sampling resolution for the global route planner (default is 2).\n",
    "    fixed_spectator: If True, the spectator will follow the vehicle (default is True).\n",
    "    draw_debug_route: If True, the route will be drawn in the world (default is True).\n",
    "    render: If True, rendering will be enabled (default is True).\n",
    "    \"\"\"\n",
    "    print(\"Loading world...\")\n",
    "    world = client.load_world('Town05_Opt') # Town01_Opt is a lighter version of Town01 with layers\n",
    "    world.unload_map_layer(carla.MapLayer.Foliage) # unload foliage for better perfomance\n",
    "    world.unload_map_layer(carla.MapLayer.Particles) # unload particles for better performance\n",
    "    print(\"World loaded.\")\n",
    "    _, _, synchronization, sumo_process = synchronize_sumo_and_carla(args, world)\n",
    "    \n",
    "    amap = world.get_map()\n",
    "    grp = GlobalRoutePlanner(amap, sampling_res)\n",
    "\n",
    "    # Create a global route planner and setting up car\n",
    "    vehicle_bp.set_attribute('role_name', 'ego')  # Important for carlaviz and for TM\n",
    "    ego_vehicle = world.spawn_actor(vehicle_bp, route_sps[0])\n",
    "    route = generate_route(grp, route_sps, draw_debug_route=draw_debug_route)\n",
    "    agent = BehaviorAgent(ego_vehicle, behavior=agent_behavior)  # options: 'normal', 'aggressive', etc.\n",
    "    agent.set_global_plan(route[0])  # Set the global plan for the agent\n",
    "    route_count = 0\n",
    "\n",
    "    # Set up spectator\n",
    "    spectator = world.get_spectator()\n",
    "    spectator.set_transform(carla.Transform(ego_vehicle.get_transform().location + carla.Location(z=40),carla.Rotation(pitch=-90)))\n",
    "\n",
    "    # Attach sensors to the vehicle BEFORE synchronous mode \n",
    "    sensor_actors = [] # Hold references to sensor actors to prevent garbage collection\n",
    "    for sensor_bp in sensors_bp:\n",
    "        sensor = world.spawn_actor(sensor_bp, carla.Transform(), attach_to=ego_vehicle)\n",
    "        sensor_actors.append(sensor)\n",
    "\n",
    "    # Listen to sensors AFTER synchronous mode\n",
    "    for sensor in sensor_actors:\n",
    "        if sensor.type_id == 'sensor.other.imu':\n",
    "            print(\"IMU sensor attached.\")\n",
    "            sensor.listen(lambda data: imu_callback(data))\n",
    "        elif sensor.type_id == 'sensor.other.gnss':\n",
    "            print(\"GNSS sensor attached.\")\n",
    "            sensor.listen(lambda data: gnss_callback(data))\n",
    "\n",
    "\n",
    "    print('Starting simulation...')\n",
    "    try:\n",
    "        while True:\n",
    "            start = time.time()\n",
    "            synchronization.tick()\n",
    "\n",
    "            if agent.done():\n",
    "                print(f\"Path up to {route_sps[route_count + 1]} completed.\")\n",
    "                if route_count == len(route) - 1:\n",
    "                    print(\"Route completed.\")\n",
    "                    break\n",
    "                \n",
    "                route_count += 1\n",
    "                agent.set_global_plan(route[route_count])  # Update the global plan for the agent\n",
    "                print(f\"New route set from {route_sps[route_count]} to {route_sps[route_count + 1]}.\")\n",
    "\n",
    "            control = agent.run_step()\n",
    "            ego_vehicle.apply_control(control)\n",
    "            \n",
    "            # Update spectator position\n",
    "            if fixed_spectator:\n",
    "                # Spectator follows the vehicle\n",
    "                spectator.set_transform(carla.Transform(ego_vehicle.get_transform().location + carla.Location(z=40), carla.Rotation(pitch=-90)))\n",
    "            \n",
    "            end = time.time()\n",
    "            elapsed = end - start\n",
    "            # if elapsed < args['step_length']:\n",
    "                # time.sleep(args['step_length'] - elapsed)\n",
    "    except KeyboardInterrupt:\n",
    "        print(\"Simulation interrupted by user.\")\n",
    "\n",
    "    finally:\n",
    "        for sensor in world.get_actors().filter('sensor.other.*'):\n",
    "            sensor.destroy()\n",
    "\n",
    "        synchronization.close()\n",
    "        sumo_process.terminate()\n",
    "        print(\"Simulation finished.\")"
   ]
  },
  {
   "cell_type": "code",
   "execution_count": 20,
   "metadata": {},
   "outputs": [],
   "source": [
    "places_sps = get_spawn_points_from_csv(f'interests_spawn_points_Town05.csv')\n",
    "routine = pd.read_csv('llm_routines/llm_routine1.csv')['location'].tolist()\n",
    "routine_sps = []\n",
    "for pl in routine:\n",
    "    routine_sps.append(places_sps[pl])"
   ]
  },
  {
   "cell_type": "markdown",
   "metadata": {},
   "source": [
    "### This is not working because the agent vehicle in follow_route is clearly disconnected from the synchronization tick, making it unusable"
   ]
  },
  {
   "cell_type": "code",
   "execution_count": null,
   "metadata": {},
   "outputs": [
    {
     "name": "stdout",
     "output_type": "stream",
     "text": [
      "Loading world...\n",
      "World loaded.\n",
      "Actors in the world: []\n",
      "CARLA connected...\n",
      "SUMO connected...\n",
      "Synchronization created...\n",
      "Showing multiple routes\n",
      "IMU sensor attached.\n",
      "GNSS sensor attached.\n",
      "Starting simulation...\n",
      "Simulation interrupted by user.\n",
      "Simulation finished.\n"
     ]
    },
    {
     "ename": "",
     "evalue": "",
     "output_type": "error",
     "traceback": [
      "\u001b[1;31mThe Kernel crashed while executing code in the current cell or a previous cell. \n",
      "\u001b[1;31mPlease review the code in the cell(s) to identify a possible cause of the failure. \n",
      "\u001b[1;31mClick <a href='https://aka.ms/vscodeJupyterKernelCrash'>here</a> for more info. \n",
      "\u001b[1;31mView Jupyter <a href='command:jupyter.viewOutput'>log</a> for further details."
     ]
    }
   ],
   "source": [
    "# timestamp: simulation time - s\n",
    "# acc: m/s^2\n",
    "# gyro: rad/s\n",
    "# compass: rad\n",
    "imu_df = pd.DataFrame(columns=['timestamp', 'acc_x', 'acc_y', 'acc_z', 'gyro_x', 'gyro_y', 'gyro_z', 'compass'])\n",
    "\n",
    "# timestamp: simulation time - s\n",
    "# latitude: rad\n",
    "# longitude: rad\n",
    "# orientation: rad\n",
    "gnss_df = pd.DataFrame(columns=['timestamp', 'latitude', 'longitude'])\n",
    "\n",
    "if 'gnss_callback' not in globals() or 'imu_callback' not in globals():\n",
    "    raise NameError(\"Required callback functions 'gnss_callback' or 'imu_callback' are not defined.\")\n",
    "\n",
    "agent_behavior = 'normal'  # options: 'normal', 'aggressive', etc.\n",
    "\n",
    "importlib.reload(sync)\n",
    "follow_route(world, bp, sensors_bp=[IMU_bp, GNSS_bp], route_sps=routine_sps, agent_behavior='normal', sampling_res=2, fixed_spectator=True, draw_debug_route=True, render=True)"
   ]
  },
  {
   "cell_type": "code",
   "execution_count": 2,
   "metadata": {},
   "outputs": [
    {
     "ename": "NameError",
     "evalue": "name 'imu_df' is not defined",
     "output_type": "error",
     "traceback": [
      "\u001b[0;31m---------------------------------------------------------------------------\u001b[0m",
      "\u001b[0;31mNameError\u001b[0m                                 Traceback (most recent call last)",
      "Cell \u001b[0;32mIn[2], line 1\u001b[0m\n\u001b[0;32m----> 1\u001b[0m \u001b[43mimu_df\u001b[49m\n",
      "\u001b[0;31mNameError\u001b[0m: name 'imu_df' is not defined"
     ]
    }
   ],
   "source": [
    "imu_df"
   ]
  },
  {
   "cell_type": "markdown",
   "metadata": {},
   "source": [
    "## Plot sensors"
   ]
  },
  {
   "cell_type": "code",
   "execution_count": 12,
   "metadata": {},
   "outputs": [],
   "source": [
    "def plot_sensors(df, start_time = 0, end_time = 0, gnss=True):\n",
    "\n",
    "    fig, ax = plt.subplots(2, 2, figsize=(20, 10))\n",
    "    ax = ax.flatten()\n",
    "    if end_time == 0:\n",
    "        end_time = len(df['timestamp'])\n",
    "    if end_time > len(df['timestamp']):\n",
    "        end_time = len(df['timestamp'])\n",
    "    \n",
    "    start_index = df['timestamp'].searchsorted(start_time, side='left')\n",
    "    end_index = df['timestamp'].searchsorted(end_time, side='right')\n",
    "\n",
    "    timestamp = df['timestamp'][start_index:end_index] # Normalize time to start from 0\n",
    "\n",
    "    ax[0].plot(timestamp, df['acc_x'][start_index:end_index], label='acc_x')\n",
    "    ax[0].plot(timestamp, df['acc_y'][start_index:end_index], label='acc_y')\n",
    "    if 'acc_z' in df.columns:\n",
    "        ax[0].plot(timestamp, df['acc_z'], label='acc_z')\n",
    "    ax[0].set_title('Accelerometer')\n",
    "    ax[0].set_xlabel('Time [s]')\n",
    "    ax[0].set_ylabel('Acceleration [m/s^2]')\n",
    "    ax[0].legend()\n",
    "\n",
    "    ax[1].plot(timestamp, df['gyro_x'][start_index:end_index], label='gyro_x')\n",
    "    ax[1].plot(timestamp, df['gyro_y'][start_index:end_index], label='gyro_y')\n",
    "    ax[1].plot(timestamp, df['gyro_z'][start_index:end_index], label='gyro_z')\n",
    "    ax[1].set_title('Gyroscope')\n",
    "    ax[1].set_xlabel('Time [s]')\n",
    "    ax[1].set_ylabel('Angular velocity [rad/s]')\n",
    "    ax[1].legend()\n",
    "\n",
    "    ax[2].plot(timestamp, df['compass'][start_index:end_index], label='compass')\n",
    "    ax[2].set_title('Compass')\n",
    "    ax[2].set_xlabel('Time [s]')\n",
    "    ax[2].set_ylabel('Heading [rad]')\n",
    "    ax[2].legend()\n",
    "\n",
    "    if gnss:\n",
    "        ax[3].plot(df['latitude'], df['longitude'], label='latitude vs longitude')\n",
    "        # ax[3].plot(timestamp, df['latitude'][start_index:end_index], label='latitude')\n",
    "        # ax[3].plot(timestamp, df['longitude'][start_index:end_index], label='longitude')\n",
    "        ax[3].set_title('GNSS')\n",
    "        ax[3].set_xlabel('Time [s]')\n",
    "        ax[3].set_ylabel('Position [rad]')\n",
    "        ax[3].legend()\n",
    "\n",
    "    plt.show()"
   ]
  },
  {
   "cell_type": "code",
   "execution_count": 14,
   "metadata": {},
   "outputs": [
    {
     "ename": "ValueError",
     "evalue": "x and y must have same first dimension, but have shapes (0,) and (2,)",
     "output_type": "error",
     "traceback": [
      "\u001b[0;31m---------------------------------------------------------------------------\u001b[0m",
      "\u001b[0;31mValueError\u001b[0m                                Traceback (most recent call last)",
      "Cell \u001b[0;32mIn[14], line 1\u001b[0m\n\u001b[0;32m----> 1\u001b[0m \u001b[43mplot_sensors\u001b[49m\u001b[43m(\u001b[49m\u001b[43mimu_df\u001b[49m\u001b[43m,\u001b[49m\u001b[43m \u001b[49m\u001b[43mstart_time\u001b[49m\u001b[38;5;241;43m=\u001b[39;49m\u001b[38;5;241;43m0\u001b[39;49m\u001b[43m,\u001b[49m\u001b[43m \u001b[49m\u001b[43mend_time\u001b[49m\u001b[38;5;241;43m=\u001b[39;49m\u001b[38;5;241;43m0\u001b[39;49m\u001b[43m,\u001b[49m\u001b[43m \u001b[49m\u001b[43mgnss\u001b[49m\u001b[38;5;241;43m=\u001b[39;49m\u001b[38;5;28;43;01mTrue\u001b[39;49;00m\u001b[43m)\u001b[49m\n",
      "Cell \u001b[0;32mIn[12], line 18\u001b[0m, in \u001b[0;36mplot_sensors\u001b[0;34m(df, start_time, end_time, gnss)\u001b[0m\n\u001b[1;32m     16\u001b[0m ax[\u001b[38;5;241m0\u001b[39m]\u001b[38;5;241m.\u001b[39mplot(timestamp, df[\u001b[38;5;124m'\u001b[39m\u001b[38;5;124macc_y\u001b[39m\u001b[38;5;124m'\u001b[39m][start_index:end_index], label\u001b[38;5;241m=\u001b[39m\u001b[38;5;124m'\u001b[39m\u001b[38;5;124macc_y\u001b[39m\u001b[38;5;124m'\u001b[39m)\n\u001b[1;32m     17\u001b[0m \u001b[38;5;28;01mif\u001b[39;00m \u001b[38;5;124m'\u001b[39m\u001b[38;5;124macc_z\u001b[39m\u001b[38;5;124m'\u001b[39m \u001b[38;5;129;01min\u001b[39;00m df\u001b[38;5;241m.\u001b[39mcolumns:\n\u001b[0;32m---> 18\u001b[0m     \u001b[43max\u001b[49m\u001b[43m[\u001b[49m\u001b[38;5;241;43m0\u001b[39;49m\u001b[43m]\u001b[49m\u001b[38;5;241;43m.\u001b[39;49m\u001b[43mplot\u001b[49m\u001b[43m(\u001b[49m\u001b[43mtimestamp\u001b[49m\u001b[43m,\u001b[49m\u001b[43m \u001b[49m\u001b[43mdf\u001b[49m\u001b[43m[\u001b[49m\u001b[38;5;124;43m'\u001b[39;49m\u001b[38;5;124;43macc_z\u001b[39;49m\u001b[38;5;124;43m'\u001b[39;49m\u001b[43m]\u001b[49m\u001b[43m,\u001b[49m\u001b[43m \u001b[49m\u001b[43mlabel\u001b[49m\u001b[38;5;241;43m=\u001b[39;49m\u001b[38;5;124;43m'\u001b[39;49m\u001b[38;5;124;43macc_z\u001b[39;49m\u001b[38;5;124;43m'\u001b[39;49m\u001b[43m)\u001b[49m\n\u001b[1;32m     19\u001b[0m ax[\u001b[38;5;241m0\u001b[39m]\u001b[38;5;241m.\u001b[39mset_title(\u001b[38;5;124m'\u001b[39m\u001b[38;5;124mAccelerometer\u001b[39m\u001b[38;5;124m'\u001b[39m)\n\u001b[1;32m     20\u001b[0m ax[\u001b[38;5;241m0\u001b[39m]\u001b[38;5;241m.\u001b[39mset_xlabel(\u001b[38;5;124m'\u001b[39m\u001b[38;5;124mTime [s]\u001b[39m\u001b[38;5;124m'\u001b[39m)\n",
      "File \u001b[0;32m~/miniconda3/envs/carla-env/lib/python3.8/site-packages/matplotlib/axes/_axes.py:1635\u001b[0m, in \u001b[0;36mAxes.plot\u001b[0;34m(self, scalex, scaley, data, *args, **kwargs)\u001b[0m\n\u001b[1;32m   1393\u001b[0m \u001b[38;5;250m\u001b[39m\u001b[38;5;124;03m\"\"\"\u001b[39;00m\n\u001b[1;32m   1394\u001b[0m \u001b[38;5;124;03mPlot y versus x as lines and/or markers.\u001b[39;00m\n\u001b[1;32m   1395\u001b[0m \n\u001b[0;32m   (...)\u001b[0m\n\u001b[1;32m   1632\u001b[0m \u001b[38;5;124;03m(``'green'``) or hex strings (``'#008000'``).\u001b[39;00m\n\u001b[1;32m   1633\u001b[0m \u001b[38;5;124;03m\"\"\"\u001b[39;00m\n\u001b[1;32m   1634\u001b[0m kwargs \u001b[38;5;241m=\u001b[39m cbook\u001b[38;5;241m.\u001b[39mnormalize_kwargs(kwargs, mlines\u001b[38;5;241m.\u001b[39mLine2D)\n\u001b[0;32m-> 1635\u001b[0m lines \u001b[38;5;241m=\u001b[39m [\u001b[38;5;241m*\u001b[39m\u001b[38;5;28mself\u001b[39m\u001b[38;5;241m.\u001b[39m_get_lines(\u001b[38;5;241m*\u001b[39margs, data\u001b[38;5;241m=\u001b[39mdata, \u001b[38;5;241m*\u001b[39m\u001b[38;5;241m*\u001b[39mkwargs)]\n\u001b[1;32m   1636\u001b[0m \u001b[38;5;28;01mfor\u001b[39;00m line \u001b[38;5;129;01min\u001b[39;00m lines:\n\u001b[1;32m   1637\u001b[0m     \u001b[38;5;28mself\u001b[39m\u001b[38;5;241m.\u001b[39madd_line(line)\n",
      "File \u001b[0;32m~/miniconda3/envs/carla-env/lib/python3.8/site-packages/matplotlib/axes/_base.py:312\u001b[0m, in \u001b[0;36m_process_plot_var_args.__call__\u001b[0;34m(self, data, *args, **kwargs)\u001b[0m\n\u001b[1;32m    310\u001b[0m     this \u001b[38;5;241m+\u001b[39m\u001b[38;5;241m=\u001b[39m args[\u001b[38;5;241m0\u001b[39m],\n\u001b[1;32m    311\u001b[0m     args \u001b[38;5;241m=\u001b[39m args[\u001b[38;5;241m1\u001b[39m:]\n\u001b[0;32m--> 312\u001b[0m \u001b[38;5;28;01myield from\u001b[39;00m \u001b[38;5;28;43mself\u001b[39;49m\u001b[38;5;241;43m.\u001b[39;49m\u001b[43m_plot_args\u001b[49m\u001b[43m(\u001b[49m\u001b[43mthis\u001b[49m\u001b[43m,\u001b[49m\u001b[43m \u001b[49m\u001b[43mkwargs\u001b[49m\u001b[43m)\u001b[49m\n",
      "File \u001b[0;32m~/miniconda3/envs/carla-env/lib/python3.8/site-packages/matplotlib/axes/_base.py:498\u001b[0m, in \u001b[0;36m_process_plot_var_args._plot_args\u001b[0;34m(self, tup, kwargs, return_kwargs)\u001b[0m\n\u001b[1;32m    495\u001b[0m     \u001b[38;5;28mself\u001b[39m\u001b[38;5;241m.\u001b[39maxes\u001b[38;5;241m.\u001b[39myaxis\u001b[38;5;241m.\u001b[39mupdate_units(y)\n\u001b[1;32m    497\u001b[0m \u001b[38;5;28;01mif\u001b[39;00m x\u001b[38;5;241m.\u001b[39mshape[\u001b[38;5;241m0\u001b[39m] \u001b[38;5;241m!=\u001b[39m y\u001b[38;5;241m.\u001b[39mshape[\u001b[38;5;241m0\u001b[39m]:\n\u001b[0;32m--> 498\u001b[0m     \u001b[38;5;28;01mraise\u001b[39;00m \u001b[38;5;167;01mValueError\u001b[39;00m(\u001b[38;5;124mf\u001b[39m\u001b[38;5;124m\"\u001b[39m\u001b[38;5;124mx and y must have same first dimension, but \u001b[39m\u001b[38;5;124m\"\u001b[39m\n\u001b[1;32m    499\u001b[0m                      \u001b[38;5;124mf\u001b[39m\u001b[38;5;124m\"\u001b[39m\u001b[38;5;124mhave shapes \u001b[39m\u001b[38;5;132;01m{\u001b[39;00mx\u001b[38;5;241m.\u001b[39mshape\u001b[38;5;132;01m}\u001b[39;00m\u001b[38;5;124m and \u001b[39m\u001b[38;5;132;01m{\u001b[39;00my\u001b[38;5;241m.\u001b[39mshape\u001b[38;5;132;01m}\u001b[39;00m\u001b[38;5;124m\"\u001b[39m)\n\u001b[1;32m    500\u001b[0m \u001b[38;5;28;01mif\u001b[39;00m x\u001b[38;5;241m.\u001b[39mndim \u001b[38;5;241m>\u001b[39m \u001b[38;5;241m2\u001b[39m \u001b[38;5;129;01mor\u001b[39;00m y\u001b[38;5;241m.\u001b[39mndim \u001b[38;5;241m>\u001b[39m \u001b[38;5;241m2\u001b[39m:\n\u001b[1;32m    501\u001b[0m     \u001b[38;5;28;01mraise\u001b[39;00m \u001b[38;5;167;01mValueError\u001b[39;00m(\u001b[38;5;124mf\u001b[39m\u001b[38;5;124m\"\u001b[39m\u001b[38;5;124mx and y can be no greater than 2D, but have \u001b[39m\u001b[38;5;124m\"\u001b[39m\n\u001b[1;32m    502\u001b[0m                      \u001b[38;5;124mf\u001b[39m\u001b[38;5;124m\"\u001b[39m\u001b[38;5;124mshapes \u001b[39m\u001b[38;5;132;01m{\u001b[39;00mx\u001b[38;5;241m.\u001b[39mshape\u001b[38;5;132;01m}\u001b[39;00m\u001b[38;5;124m and \u001b[39m\u001b[38;5;132;01m{\u001b[39;00my\u001b[38;5;241m.\u001b[39mshape\u001b[38;5;132;01m}\u001b[39;00m\u001b[38;5;124m\"\u001b[39m)\n",
      "\u001b[0;31mValueError\u001b[0m: x and y must have same first dimension, but have shapes (0,) and (2,)"
     ]
    },
    {
     "data": {
      "image/png": "[encoded data removed]",
      "text/plain": [
       "<Figure size 2000x1000 with 4 Axes>"
      ]
     },
     "metadata": {},
     "output_type": "display_data"
    }
   ],
   "source": [
    "plot_sensors(imu_df, start_time=0, end_time=0, gnss=True)"
   ]
  },
  {
   "cell_type": "code",
   "execution_count": null,
   "metadata": {},
   "outputs": [],
   "source": []
  }
 ],
 "metadata": {
  "kernelspec": {
   "display_name": "carla-env",
   "language": "python",
   "name": "python3"
  },
  "language_info": {
   "codemirror_mode": {
    "name": "ipython",
    "version": 3
   },
   "file_extension": ".py",
   "mimetype": "text/x-python",
   "name": "python",
   "nbconvert_exporter": "python",
   "pygments_lexer": "ipython3",
   "version": "3.8.18"
  }
 },
 "nbformat": 4,
 "nbformat_minor": 2
}
