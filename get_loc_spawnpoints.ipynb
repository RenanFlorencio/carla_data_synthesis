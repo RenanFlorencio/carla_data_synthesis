{
 "cells": [
  {
   "cell_type": "code",
   "execution_count": 26,
   "id": "6c46755b",
   "metadata": {},
   "outputs": [],
   "source": [
    "import carla\n",
    "import pandas as pd\n",
    "import numpy as np\n",
    "import os\n",
    "import csv\n",
    "import sys\n",
    "import importlib\n",
    "import json\n",
    "\n",
    "# Add the \"scripts\" directory to sys.path\n",
    "current_dir = os.path.dirname(os.path.abspath(\"__file__\"))\n",
    "scripts_dir = os.path.abspath(os.path.join(current_dir, 'scripts'))\n",
    "sys.path.append(scripts_dir)\n",
    "import LLAMAconnect as llama"
   ]
  },
  {
   "cell_type": "markdown",
   "id": "4f67c748",
   "metadata": {},
   "source": [
    "### This notebook is used to help find spawnpoints for each place of interest in the map"
   ]
  },
  {
   "cell_type": "code",
   "execution_count": 27,
   "id": "3d4f3784",
   "metadata": {},
   "outputs": [],
   "source": [
    "# Connecting to CARLA\n",
    "client = carla.Client('localhost', 2000)\n",
    "client.set_timeout(20)\n",
    "town = 'Town01'\n",
    "world = client.load_world(f'{town}_Opt') # Town01_Opt is a lighter version of Town01 with layers\n",
    "world.unload_map_layer(carla.MapLayer.Foliage) # unload foliage for better perfomance \n",
    "world.unload_map_layer(carla.MapLayer.Particles) # unload particles for better performance\n",
    "spectator = world.get_spectator()"
   ]
  },
  {
   "cell_type": "code",
   "execution_count": 28,
   "id": "f0262f79",
   "metadata": {},
   "outputs": [],
   "source": [
    "def get_closest_spawn_point(transform, spawn_points):\n",
    "    closest_point = min(spawn_points, key=lambda sp: sp.location.distance(transform.location))\n",
    "    return closest_point"
   ]
  },
  {
   "cell_type": "code",
   "execution_count": 29,
   "id": "85c0306d",
   "metadata": {},
   "outputs": [],
   "source": [
    "def draw_all_spawnpoints(spawn_points):\n",
    "    for i, sp in enumerate(spawn_points):\n",
    "        world.debug.draw_string(\n",
    "            sp.location,\n",
    "            f'O{i}',  # Optional: add index label\n",
    "            draw_shadow=False,\n",
    "            color=carla.Color(r=255, g=0, b=0),  # Red\n",
    "            life_time=500.0,\n",
    "            persistent_lines=True\n",
    "     )"
   ]
  },
  {
   "cell_type": "code",
   "execution_count": 30,
   "id": "c83fa23c",
   "metadata": {},
   "outputs": [],
   "source": [
    "def draw_interest_point(interest, nome):\n",
    "\n",
    "    world.debug.draw_string(\n",
    "        interest.location,\n",
    "        f'{nome.upper()}',  # Optional: add index label\n",
    "        draw_shadow=False,\n",
    "        color=carla.Color(r=0, g=255, b=0),  # Green\n",
    "        life_time=500.0,\n",
    "        persistent_lines=True\n",
    "    )"
   ]
  },
  {
   "cell_type": "code",
   "execution_count": 31,
   "id": "7eeb5022",
   "metadata": {},
   "outputs": [],
   "source": [
    "spawn_points = world.get_map().get_spawn_points()\n",
    "interests_spawn_points = {}"
   ]
  },
  {
   "cell_type": "code",
   "execution_count": 41,
   "id": "d3bd381d",
   "metadata": {},
   "outputs": [],
   "source": [
    "# Run this to create a new interest point in the map\n",
    "nome = 'teste'\n",
    "interests_spawn_points[nome] = get_closest_spawn_point(spectator.get_transform(), spawn_points)\n",
    "draw_interest_point(interests_spawn_points[nome], nome)\n",
    "\n",
    "loc = interests_spawn_points[nome].location\n",
    "rot = interests_spawn_points[nome].rotation\n",
    "csv_name = f'interests_spawn_points_{town}.csv'\n",
    "if os.path.exists(csv_name):\n",
    "    with open(csv_name, mode='a') as file:\n",
    "        writer = csv.writer(file)\n",
    "        writer.writerow([nome, loc.x, loc.y, loc.z, rot.pitch, rot.yaw, rot.roll])\n",
    "else:\n",
    "    with open(csv_name, mode='w', newline='') as file:\n",
    "        writer = csv.writer(file)\n",
    "        writer.writerow(['Name', 'x', 'y', 'z', 'pitch', 'yaw', 'roll'])\n",
    "        writer.writerow([nome, loc.x, loc.y, loc.z, rot.pitch, rot.yaw, rot.roll])"
   ]
  },
  {
   "cell_type": "code",
   "execution_count": 37,
   "id": "f63af569",
   "metadata": {},
   "outputs": [],
   "source": [
    "def get_spawn_points_from_csv(csv_file):\n",
    "    spawn_points = {}\n",
    "    with open(csv_file, 'r') as f:\n",
    "        reader = csv.DictReader(f)\n",
    "        for row in reader:\n",
    "            loc = carla.Location(float(row['x']), float(row['y']), float(row['z']))\n",
    "            rot = carla.Rotation(float(row['pitch']), float(row['yaw']), float(row['roll']))\n",
    "            spawn_points[row['Name']] = carla.Transform(loc, rot)\n",
    "    \n",
    "    return spawn_points"
   ]
  },
  {
   "cell_type": "code",
   "execution_count": 38,
   "id": "bce85261",
   "metadata": {},
   "outputs": [
    {
     "data": {
      "text/plain": [
       "['home']"
      ]
     },
     "execution_count": 38,
     "metadata": {},
     "output_type": "execute_result"
    }
   ],
   "source": [
    "sps = get_spawn_points_from_csv('interests_spawn_points_Town01.csv')\n",
    "places = list(sps.keys())\n",
    "places"
   ]
  },
  {
   "cell_type": "code",
   "execution_count": 39,
   "id": "f9f58dc6",
   "metadata": {},
   "outputs": [],
   "source": [
    "for pl in places:\n",
    "    draw_interest_point(sps[pl], pl)"
   ]
  },
  {
   "cell_type": "code",
   "execution_count": 43,
   "id": "fcddf2b5",
   "metadata": {},
   "outputs": [
    {
     "name": "stdout",
     "output_type": "stream",
     "text": [
      "{'7': {'location': 'home', 'activity': 'wake up'}, '8': {'location': 'school', 'activity': 'study'}, '9': {'location': 'school', 'activity': 'study'}, '10': {'location': 'school', 'activity': 'study'}, '11': {'location': 'school', 'activity': 'study'}, '12': {'location': 'cafe', 'activity': 'lunch'}, '13': {'location': 'library', 'activity': 'study'}, '14': {'location': 'library', 'activity': 'study'}, '15': {'location': 'library', 'activity': 'study'}, '16': {'location': 'gym', 'activity': 'practice sports'}, '17': {'location': 'library', 'activity': 'study'}, '18': {'location': 'cafe', 'activity': 'dinner'}, '19': {'location': 'library', 'activity': 'study'}, '20': {'location': 'library', 'activity': 'study'}, '21': {'location': 'home', 'activity': 'relaxation'}, '22': {'location': 'home', 'activity': 'relaxation'}, '23': {'location': 'home', 'activity': 'sleep'}}\n"
     ]
    }
   ],
   "source": [
    "importlib.reload(llama)\n",
    "\n",
    "response = llama.getResponse_trip(places)\n",
    "while not llama.responseCheck(response, places):\n",
    "    response = llama.getResponse_trip(places)\n",
    "\n",
    "response = json.loads(response)\n",
    "print(response)"
   ]
  },
  {
   "cell_type": "code",
   "execution_count": null,
   "id": "5137a712",
   "metadata": {},
   "outputs": [],
   "source": [
    "sps_routine = []\n",
    "for locs in response.values():\n",
    "    local = locs['location']\n",
    "    sps_routine.append(sps[local])"
   ]
  },
  {
   "cell_type": "code",
   "execution_count": null,
   "id": "dc470a56",
   "metadata": {},
   "outputs": [],
   "source": []
  }
 ],
 "metadata": {
  "kernelspec": {
   "display_name": "carla-env",
   "language": "python",
   "name": "python3"
  },
  "language_info": {
   "codemirror_mode": {
    "name": "ipython",
    "version": 3
   },
   "file_extension": ".py",
   "mimetype": "text/x-python",
   "name": "python",
   "nbconvert_exporter": "python",
   "pygments_lexer": "ipython3",
   "version": "3.8.18"
  }
 },
 "nbformat": 4,
 "nbformat_minor": 5
}
