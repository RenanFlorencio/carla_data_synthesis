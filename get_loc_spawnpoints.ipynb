{
 "cells": [
  {
   "cell_type": "code",
   "execution_count": 1,
   "id": "6c46755b",
   "metadata": {},
   "outputs": [],
   "source": [
    "import carla\n",
    "import pandas as pd\n",
    "import numpy as np\n",
    "import os\n",
    "import csv\n",
    "import sys\n",
    "import importlib\n",
    "import json\n",
    "\n",
    "# Add the \"scripts\" directory to sys.path\n",
    "current_dir = os.path.dirname(os.path.abspath(\"__file__\"))\n",
    "scripts_dir = os.path.abspath(os.path.join(current_dir, 'scripts'))\n",
    "sys.path.append(scripts_dir)\n",
    "import LLAMAconnect as llama"
   ]
  },
  {
   "cell_type": "markdown",
   "id": "4f67c748",
   "metadata": {},
   "source": [
    "### This notebook is used to help find spawnpoints for each place of interest in the map"
   ]
  },
  {
   "cell_type": "code",
   "execution_count": null,
   "id": "3d4f3784",
   "metadata": {},
   "outputs": [],
   "source": [
    "# Connecting to CARLA\n",
    "client = carla.Client('localhost', 2000)\n",
    "client.set_timeout(20)\n",
    "town = 'Town01'\n",
    "world = client.load_world(f'{town}_Opt') # Town01_Opt is a lighter version of Town01 with layers\n",
    "world.unload_map_layer(carla.MapLayer.Foliage) # unload foliage for better perfomance \n",
    "world.unload_map_layer(carla.MapLayer.Particles) # unload particles for better performance\n",
    "spectator = world.get_spectator()"
   ]
  },
  {
   "cell_type": "code",
   "execution_count": null,
   "id": "f0262f79",
   "metadata": {},
   "outputs": [],
   "source": [
    "def get_closest_spawn_point(transform, spawn_points):\n",
    "    closest_point = min(spawn_points, key=lambda sp: sp.location.distance(transform.location))\n",
    "    return closest_point"
   ]
  },
  {
   "cell_type": "code",
   "execution_count": 4,
   "id": "85c0306d",
   "metadata": {},
   "outputs": [],
   "source": [
    "def draw_all_spawnpoints(spawn_points):\n",
    "    for i, sp in enumerate(spawn_points):\n",
    "        world.debug.draw_string(\n",
    "            sp.location,\n",
    "            f'O{i}',  # Optional: add index label\n",
    "            draw_shadow=False,\n",
    "            color=carla.Color(r=255, g=0, b=0),  # Red\n",
    "            life_time=500.0,\n",
    "            persistent_lines=True\n",
    "     )"
   ]
  },
  {
   "cell_type": "code",
   "execution_count": 6,
   "id": "c83fa23c",
   "metadata": {},
   "outputs": [],
   "source": [
    "def draw_interest_point(spawn_points, interest, nome):\n",
    "    for i, sp in enumerate(spawn_points):\n",
    "        if sp.location == interest.location:\n",
    "            world.debug.draw_string(\n",
    "                sp.location,\n",
    "                f'{nome.upper()}',  # Optional: add index label\n",
    "                draw_shadow=False,\n",
    "                color=carla.Color(r=0, g=255, b=0),  # Green\n",
    "                life_time=500.0,\n",
    "                persistent_lines=True\n",
    "        )"
   ]
  },
  {
   "cell_type": "code",
   "execution_count": 7,
   "id": "7eeb5022",
   "metadata": {},
   "outputs": [],
   "source": [
    "spawn_points = world.get_map().get_spawn_points()\n",
    "interests_spawn_points = {}\n",
    "draw_all_spawnpoints(spawn_points)"
   ]
  },
  {
   "cell_type": "code",
   "execution_count": null,
   "id": "d3bd381d",
   "metadata": {},
   "outputs": [],
   "source": [
    "# Run this to create a new interest point in the map\n",
    "nome = 'gym'\n",
    "interests_spawn_points[nome] = get_closest_spawn_point(spectator.get_transform(), spawn_points)\n",
    "draw_interest_point(spawn_points, interests_spawn_points[nome], nome)\n",
    "\n",
    "loc = interests_spawn_points[nome].location\n",
    "csv_name = f'interests_spawn_points_{town}.csv'\n",
    "if os.path.exists(csv_name):\n",
    "    with open(csv_name, mode='a') as file:\n",
    "        writer = csv.writer(file)\n",
    "        writer.writerow([nome, loc.x, loc.y, loc.z])\n",
    "else:\n",
    "    with open(csv_name, mode='w', newline='') as file:\n",
    "        writer = csv.writer(file)\n",
    "        writer.writerow(['Name', 'x', 'y', 'z'])\n",
    "        writer.writerow([nome, loc.x, loc.y, loc.z])"
   ]
  },
  {
   "cell_type": "code",
   "execution_count": 30,
   "id": "d7d62c31",
   "metadata": {},
   "outputs": [],
   "source": [
    "draw_interest_point(spawn_points, interests_spawn_points[nome], nome)"
   ]
  },
  {
   "cell_type": "code",
   "execution_count": null,
   "id": "f63af569",
   "metadata": {},
   "outputs": [],
   "source": [
    "def get_spawn_points_from_csv(data, spawn_points):\n",
    "    sps = {}\n",
    "    for i in range(len(data)):\n",
    "        nome = data.index[i]\n",
    "        x, y, z = data.iloc[i]\n",
    "        transform = carla.Transform(carla.Location(x=x, y=y, z=z))\n",
    "        sps[nome] = get_closest_spawn_point(transform, spawn_points)\n",
    "    return sps"
   ]
  },
  {
   "cell_type": "code",
   "execution_count": 42,
   "id": "bce85261",
   "metadata": {},
   "outputs": [
    {
     "data": {
      "text/plain": [
       "['supermarket', 'work', 'school', 'library', 'cafe', 'home', 'gym']"
      ]
     },
     "execution_count": 42,
     "metadata": {},
     "output_type": "execute_result"
    }
   ],
   "source": [
    "data = pd.read_csv('interests_spawn_points.csv', index_col=0)\n",
    "sps = get_spawn_points_from_csv(data, spawn_points)\n",
    "places = list(sps.keys())\n",
    "places"
   ]
  },
  {
   "cell_type": "code",
   "execution_count": 43,
   "id": "fcddf2b5",
   "metadata": {},
   "outputs": [
    {
     "name": "stdout",
     "output_type": "stream",
     "text": [
      "{'7': {'location': 'home', 'activity': 'wake up'}, '8': {'location': 'school', 'activity': 'study'}, '9': {'location': 'school', 'activity': 'study'}, '10': {'location': 'school', 'activity': 'study'}, '11': {'location': 'school', 'activity': 'study'}, '12': {'location': 'cafe', 'activity': 'lunch'}, '13': {'location': 'library', 'activity': 'study'}, '14': {'location': 'library', 'activity': 'study'}, '15': {'location': 'library', 'activity': 'study'}, '16': {'location': 'gym', 'activity': 'practice sports'}, '17': {'location': 'library', 'activity': 'study'}, '18': {'location': 'cafe', 'activity': 'dinner'}, '19': {'location': 'library', 'activity': 'study'}, '20': {'location': 'library', 'activity': 'study'}, '21': {'location': 'home', 'activity': 'relaxation'}, '22': {'location': 'home', 'activity': 'relaxation'}, '23': {'location': 'home', 'activity': 'sleep'}}\n"
     ]
    }
   ],
   "source": [
    "importlib.reload(llama)\n",
    "\n",
    "response = llama.getResponse_trip(places)\n",
    "while not llama.responseCheck(response, places):\n",
    "    response = llama.getResponse_trip(places)\n",
    "\n",
    "response = json.loads(response)\n",
    "print(response)"
   ]
  },
  {
   "cell_type": "code",
   "execution_count": null,
   "id": "5137a712",
   "metadata": {},
   "outputs": [],
   "source": [
    "sps_routine = []\n",
    "for locs in response.values():\n",
    "    local = locs['location']\n",
    "    sps_routine.append(sps[local])"
   ]
  },
  {
   "cell_type": "code",
   "execution_count": null,
   "id": "dc470a56",
   "metadata": {},
   "outputs": [],
   "source": []
  }
 ],
 "metadata": {
  "kernelspec": {
   "display_name": "carla-env",
   "language": "python",
   "name": "python3"
  },
  "language_info": {
   "codemirror_mode": {
    "name": "ipython",
    "version": 3
   },
   "file_extension": ".py",
   "mimetype": "text/x-python",
   "name": "python",
   "nbconvert_exporter": "python",
   "pygments_lexer": "ipython3",
   "version": "3.8.18"
  }
 },
 "nbformat": 4,
 "nbformat_minor": 5
}
